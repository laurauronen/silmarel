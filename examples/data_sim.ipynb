{
 "cells": [
  {
   "cell_type": "code",
   "execution_count": 8,
   "id": "a1ae1615",
   "metadata": {},
   "outputs": [
    {
     "name": "stdout",
     "output_type": "stream",
     "text": [
      "The autoreload extension is already loaded. To reload it, use:\n",
      "  %reload_ext autoreload\n"
     ]
    },
    {
     "name": "stderr",
     "output_type": "stream",
     "text": [
      "[autoreload of silmarel.simulation.data_sim failed: Traceback (most recent call last):\n",
      "  File \"/home/lauraelina.uronen/.conda/envs/silmarel-dev/lib/python3.10/site-packages/IPython/extensions/autoreload.py\", line 276, in check\n",
      "    superreload(m, reload, self.old_objects)\n",
      "  File \"/home/lauraelina.uronen/.conda/envs/silmarel-dev/lib/python3.10/site-packages/IPython/extensions/autoreload.py\", line 475, in superreload\n",
      "    module = reload(module)\n",
      "  File \"/home/lauraelina.uronen/.conda/envs/silmarel-dev/lib/python3.10/importlib/__init__.py\", line 169, in reload\n",
      "    _bootstrap._exec(spec, module)\n",
      "  File \"<frozen importlib._bootstrap>\", line 619, in _exec\n",
      "  File \"<frozen importlib._bootstrap_external>\", line 883, in exec_module\n",
      "  File \"<frozen importlib._bootstrap>\", line 241, in _call_with_frames_removed\n",
      "  File \"/home/lauraelina.uronen/silmarel/silmarel/simulation/data_sim.py\", line 12, in <module>\n",
      "    from dataclass import dataclass\n",
      "ModuleNotFoundError: No module named 'dataclass'\n",
      "]\n"
     ]
    }
   ],
   "source": [
    "%load_ext autoreload\n",
    "%autoreload 2\n",
    "\n",
    "import sys\n",
    "sys.path.insert(1, '/home/lauraelina.uronen/silmarel/')\n",
    "\n",
    "import numpy as np \n",
    "\n",
    "from lenstronomy.LensModel.lens_model import LensModel\n",
    "from lenstronomy.LightModel.light_model import LightModel\n",
    "\n",
    "import silmarel\n",
    "from silmarel.simulation.data_sim import ModelSim"
   ]
  },
  {
   "cell_type": "code",
   "execution_count": 9,
   "id": "8d230060",
   "metadata": {},
   "outputs": [],
   "source": [
    "# lens characteristics\n",
    "center_x, center_y = 0, 0\n",
    "z_lens = 0.7\n",
    "# source (EM) characteristics\n",
    "source_x, source_y = 0.07, 0.03\n",
    "z_source = 1.5\n",
    "\n",
    "lens_model_list = ['EPL', 'SHEAR']\n",
    "lens_light_model_list = ['SERSIC_ELLIPSE'] \n",
    "source_light_model_list = ['SERSIC_ELLIPSE']\n",
    "\n",
    "kwargs_epl = {'theta_E': 1.0, \n",
    "                'center_x': center_x, \n",
    "                'center_y': center_y, \n",
    "                'e1': 0.1, \n",
    "                'e2': 0., \n",
    "                'gamma': 2}\n",
    "kwargs_shear = {'gamma1': 0.1, \n",
    "                'gamma2': 0.2}\n",
    "kwargs_lens = [kwargs_epl, kwargs_shear]\n",
    "\n",
    "# lens light\n",
    "kwargs_lens_light_mag = [{'amp': 50, \n",
    "                          'R_sersic': .2, \n",
    "                          'n_sersic': 4, \n",
    "                          'e1': 0.1, \n",
    "                          'e2': 0., \n",
    "                          'center_x': center_x, \n",
    "                          'center_y': center_y}]\n",
    "# source light\n",
    "kwargs_source_mag = [{'amp': 100, \n",
    "                      'R_sersic': 0.05, \n",
    "                      'n_sersic': 1, \n",
    "                      'e1': -0.3, \n",
    "                      'e2': -0.2, \n",
    "                      'center_x': source_x, \n",
    "                      'center_y': source_y}]\n",
    "\n",
    "lensModel = LensModel(lens_model_list=lens_model_list, z_source=z_source, z_lens=z_lens)\n",
    "lensLightModel = LightModel(light_model_list=lens_light_model_list)\n",
    "sourceLightModel = LightModel(light_model_list=source_light_model_list)"
   ]
  },
  {
   "cell_type": "code",
   "execution_count": 12,
   "id": "0ca36ef5",
   "metadata": {},
   "outputs": [],
   "source": [
    "numPix = 60\n",
    "deltaPix = 0.067 \n",
    "shift = numPix * deltaPix / 2\n",
    "ra_start, dec_start = center_x - shift, center_y - shift\n",
    "transform_pix2angle = np.array([[1, 0], [0, 1]]) * deltaPix\n",
    "\n",
    "fwhm = 0.067 #HST/JWST: 0.067, TMT/ELT: 0.01 in IR\n",
    "\n",
    "background_rms = None\n",
    "exposure_time = 2200\n",
    "\n",
    "kwargs_pixel = {'nx': numPix, 'ny': numPix, 'ra_at_xy_0': ra_start, 'dec_at_xy_0': dec_start, 'transform_pix2angle': transform_pix2angle}\n",
    "kwargs_psf = {'psf_type': 'GAUSSIAN', 'fwhm': fwhm, 'pixel_size': deltaPix}\n",
    "kwargs_numerics = {'supersampling_factor': 1, 'supersampling_convolution': False}\n",
    "kwargs_data = {'image_data': None, 'background_rms': background_rms, 'exposure_time': exposure_time, 'ra_at_xy_0': ra_start, 'dec_at_xy_0': dec_start, 'transform_pix2angle': transform_pix2angle}\n",
    "\n",
    "models = [lensModel, sourceLightModel, lensLightModel]\n",
    "kwargs_models = [kwargs_lens, kwargs_source_mag, kwargs_lens_light_mag]\n",
    "kwargs_settings = [kwargs_data, kwargs_psf, kwargs_pixel, kwargs_numerics]"
   ]
  },
  {
   "cell_type": "code",
   "execution_count": null,
   "id": "ffeaadd9",
   "metadata": {},
   "outputs": [
    {
     "ename": "TypeError",
     "evalue": "ModelSim.__init__() missing 5 required positional arguments: 'source_kwargs', 'kwargs_data', 'kwargs_psf', 'kwargs_pixel', and 'kwargs_numerics'",
     "output_type": "error",
     "traceback": [
      "\u001b[0;31m---------------------------------------------------------------------------\u001b[0m",
      "\u001b[0;31mTypeError\u001b[0m                                 Traceback (most recent call last)",
      "Cell \u001b[0;32mIn[13], line 1\u001b[0m\n\u001b[0;32m----> 1\u001b[0m model \u001b[38;5;241m=\u001b[39m \u001b[43mModelSim\u001b[49m\u001b[43m(\u001b[49m\u001b[43mmodels\u001b[49m\u001b[43m,\u001b[49m\u001b[43mkwargs_models\u001b[49m\u001b[43m,\u001b[49m\u001b[43m \u001b[49m\u001b[43mkwargs_settings\u001b[49m\u001b[43m)\u001b[49m\n",
      "\u001b[0;31mTypeError\u001b[0m: ModelSim.__init__() missing 5 required positional arguments: 'source_kwargs', 'kwargs_data', 'kwargs_psf', 'kwargs_pixel', and 'kwargs_numerics'"
     ]
    }
   ],
   "source": [
    "model = ModelSim(models, kwargs_models, kwargs_settings)"
   ]
  },
  {
   "cell_type": "code",
   "execution_count": 7,
   "id": "0f07d5a9",
   "metadata": {},
   "outputs": [
    {
     "name": "stderr",
     "output_type": "stream",
     "text": [
      "/local/lauraelina.uronen/ipykernel_2147597/2814578255.py:3: RuntimeWarning: invalid value encountered in log10\n",
      "  plt.imshow(np.log10(model.data))\n"
     ]
    },
    {
     "data": {
      "text/plain": [
       "<matplotlib.image.AxesImage at 0x7fca8dbd7fd0>"
      ]
     },
     "execution_count": 7,
     "metadata": {},
     "output_type": "execute_result"
    },
    {
     "data": {
      "image/png": "[encoded data removed]",
      "text/plain": [
       "<Figure size 640x480 with 1 Axes>"
      ]
     },
     "metadata": {},
     "output_type": "display_data"
    }
   ],
   "source": [
    "import matplotlib.pyplot as plt \n",
    "\n",
    "plt.imshow(np.log10(model.data))"
   ]
  },
  {
   "cell_type": "code",
   "execution_count": null,
   "id": "4f59bdc3",
   "metadata": {},
   "outputs": [],
   "source": []
  }
 ],
 "metadata": {
  "kernelspec": {
   "display_name": "Python 3",
   "language": "python",
   "name": "python3"
  },
  "language_info": {
   "codemirror_mode": {
    "name": "ipython",
    "version": 3
   },
   "file_extension": ".py",
   "mimetype": "text/x-python",
   "name": "python",
   "nbconvert_exporter": "python",
   "pygments_lexer": "ipython3",
   "version": "3.10.18"
  }
 },
 "nbformat": 4,
 "nbformat_minor": 5
}
