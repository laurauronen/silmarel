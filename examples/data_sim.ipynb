{
 "cells": [
  {
   "cell_type": "code",
   "execution_count": 1,
   "id": "a1ae1615",
   "metadata": {},
   "outputs": [
    {
     "name": "stderr",
     "output_type": "stream",
     "text": [
      "/home/lauraelina.uronen/.conda/envs/silmarel-dev/lib/python3.10/site-packages/tqdm/auto.py:21: TqdmWarning: IProgress not found. Please update jupyter and ipywidgets. See https://ipywidgets.readthedocs.io/en/stable/user_install.html\n",
      "  from .autonotebook import tqdm as notebook_tqdm\n"
     ]
    }
   ],
   "source": [
    "%load_ext autoreload\n",
    "%autoreload 2\n",
    "\n",
    "#import sys\n",
    "#sys.path.insert(1, '/home/lauraelina.uronen/silmarel/')\n",
    "\n",
    "import numpy as np \n",
    "\n",
    "from lenstronomy.LensModel.lens_model import LensModel\n",
    "from lenstronomy.LightModel.light_model import LightModel\n",
    "\n",
    "import silmarel\n",
    "from silmarel.simulation.data_sim import ModelSim\n",
    "from silmarel.data.gw_data import GWData"
   ]
  },
  {
   "cell_type": "code",
   "execution_count": 2,
   "id": "8d230060",
   "metadata": {},
   "outputs": [],
   "source": [
    "# lens characteristics\n",
    "center_x, center_y = 0, 0\n",
    "z_lens = 0.7\n",
    "# source (EM) characteristics\n",
    "source_x, source_y = 0.07, 0.03\n",
    "z_source = 1.5\n",
    "\n",
    "lens_model_list = ['EPL', 'SHEAR']\n",
    "lens_light_model_list = ['SERSIC_ELLIPSE'] \n",
    "source_light_model_list = ['SERSIC_ELLIPSE']\n",
    "\n",
    "kwargs_epl = {'theta_E': 1.0, \n",
    "                'center_x': center_x, \n",
    "                'center_y': center_y, \n",
    "                'e1': 0.1, \n",
    "                'e2': 0., \n",
    "                'gamma': 2}\n",
    "kwargs_shear = {'gamma1': 0.1, \n",
    "                'gamma2': 0.2}\n",
    "kwargs_lens = [kwargs_epl, kwargs_shear]\n",
    "\n",
    "# lens light\n",
    "kwargs_lens_light_mag = [{'amp': 50, \n",
    "                          'R_sersic': .2, \n",
    "                          'n_sersic': 4, \n",
    "                          'e1': 0.1, \n",
    "                          'e2': 0., \n",
    "                          'center_x': center_x, \n",
    "                          'center_y': center_y}]\n",
    "# source light\n",
    "kwargs_source_mag = [{'amp': 100, \n",
    "                      'R_sersic': 0.05, \n",
    "                      'n_sersic': 1, \n",
    "                      'e1': -0.3, \n",
    "                      'e2': -0.2, \n",
    "                      'center_x': source_x, \n",
    "                      'center_y': source_y}]\n",
    "\n",
    "lensModel = LensModel(lens_model_list=lens_model_list, z_source=z_source, z_lens=z_lens)\n",
    "lensLightModel = LightModel(light_model_list=lens_light_model_list)\n",
    "sourceLightModel = LightModel(light_model_list=source_light_model_list)"
   ]
  },
  {
   "cell_type": "code",
   "execution_count": 3,
   "id": "0ca36ef5",
   "metadata": {},
   "outputs": [],
   "source": [
    "numPix = 60\n",
    "deltaPix = 0.067 \n",
    "shift = numPix * deltaPix / 2\n",
    "ra_start, dec_start = center_x - shift, center_y - shift\n",
    "transform_pix2angle = np.array([[1, 0], [0, 1]]) * deltaPix\n",
    "\n",
    "fwhm = 0.067 #HST/JWST: 0.067, TMT/ELT: 0.01 in IR\n",
    "\n",
    "background_rms = None\n",
    "exposure_time = 2200\n",
    "\n",
    "kwargs_pixel = {'nx': numPix, 'ny': numPix, 'ra_at_xy_0': ra_start, 'dec_at_xy_0': dec_start, 'transform_pix2angle': transform_pix2angle}\n",
    "kwargs_psf = {'psf_type': 'GAUSSIAN', 'fwhm': fwhm, 'pixel_size': deltaPix}\n",
    "kwargs_numerics = {'supersampling_factor': 1, 'supersampling_convolution': False}\n",
    "kwargs_data = {'image_data': None, 'background_rms': background_rms, 'exposure_time': exposure_time, 'ra_at_xy_0': ra_start, 'dec_at_xy_0': dec_start, 'transform_pix2angle': transform_pix2angle}\n",
    "gw_kwargs = {'ra' : source_x, 'dec' : source_y}\n",
    "\n",
    "models = [lensModel, sourceLightModel, lensLightModel]\n",
    "kwargs_models = [kwargs_lens, kwargs_source_mag, kwargs_lens_light_mag]\n",
    "kwargs_settings = [kwargs_data, kwargs_psf, kwargs_pixel, kwargs_numerics]"
   ]
  },
  {
   "cell_type": "code",
   "execution_count": 4,
   "id": "ffeaadd9",
   "metadata": {},
   "outputs": [
    {
     "name": "stderr",
     "output_type": "stream",
     "text": [
      "/home/lauraelina.uronen/.conda/envs/silmarel-dev/lib/python3.10/site-packages/lenstronomy/LensModel/Profiles/epl.py:297: RuntimeWarning: invalid value encountered in divide\n",
      "  R_omega = Z * hyp2f1(1, t / 2, 2 - t / 2, -(1 - q) / (1 + q) * (Z / Z.conj()))\n"
     ]
    }
   ],
   "source": [
    "model = ModelSim(models, kwargs_models, kwargs_settings, gw_kwargs)"
   ]
  },
  {
   "cell_type": "code",
   "execution_count": 5,
   "id": "0f07d5a9",
   "metadata": {},
   "outputs": [
    {
     "name": "stderr",
     "output_type": "stream",
     "text": [
      "/local/lauraelina.uronen/ipykernel_4041928/1163669524.py:3: RuntimeWarning: invalid value encountered in log10\n",
      "  plt.imshow(np.log10(model.image_data))\n"
     ]
    },
    {
     "data": {
      "text/plain": [
       "<matplotlib.image.AxesImage at 0x7f6efedd2590>"
      ]
     },
     "execution_count": 5,
     "metadata": {},
     "output_type": "execute_result"
    },
    {
     "data": {
      "image/png": "[encoded data removed]",
      "text/plain": [
       "<Figure size 640x480 with 1 Axes>"
      ]
     },
     "metadata": {},
     "output_type": "display_data"
    }
   ],
   "source": [
    "import matplotlib.pyplot as plt \n",
    "\n",
    "plt.imshow(np.log10(model.image_data))"
   ]
  },
  {
   "cell_type": "code",
   "execution_count": 6,
   "id": "4f59bdc3",
   "metadata": {},
   "outputs": [
    {
     "data": {
      "text/plain": [
       "{'image_ra': array([ 1.10010717, -0.86820863,  0.39726468, -0.66434433]),\n",
       " 'image_dec': array([ 0.80493205, -0.7795381 , -0.73664454,  0.47849008]),\n",
       " 'delta_t': array([31.65066693, 50.40105608, 57.19704283]),\n",
       " 'relative_magnification': array([ 1.34654826, -0.86639262, -0.73798371]),\n",
       " 'source_ra': 0.07,\n",
       " 'source_dec': 0.03,\n",
       " 'luminosity_distance': 3996.9717046894752}"
      ]
     },
     "execution_count": 6,
     "metadata": {},
     "output_type": "execute_result"
    }
   ],
   "source": [
    "model.gw_data"
   ]
  },
  {
   "cell_type": "code",
   "execution_count": 7,
   "id": "8862ffaa",
   "metadata": {},
   "outputs": [],
   "source": [
    "gwdata = GWData(sim = model.gw_data)"
   ]
  },
  {
   "cell_type": "code",
   "execution_count": null,
   "id": "2610665b",
   "metadata": {},
   "outputs": [],
   "source": []
  }
 ],
 "metadata": {
  "kernelspec": {
   "display_name": "Python 3",
   "language": "python",
   "name": "python3"
  },
  "language_info": {
   "codemirror_mode": {
    "name": "ipython",
    "version": 3
   },
   "file_extension": ".py",
   "mimetype": "text/x-python",
   "name": "python",
   "nbconvert_exporter": "python",
   "pygments_lexer": "ipython3",
   "version": "3.10.18"
  }
 },
 "nbformat": 4,
 "nbformat_minor": 5
}
